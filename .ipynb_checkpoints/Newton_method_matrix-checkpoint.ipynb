{
 "cells": [
  {
   "cell_type": "code",
   "execution_count": 1,
   "metadata": {},
   "outputs": [],
   "source": [
    "import numpy as np\n",
    "import pandas as pd"
   ]
  },
  {
   "cell_type": "code",
   "execution_count": 2,
   "metadata": {},
   "outputs": [],
   "source": [
    "import matplotlib.pyplot as plt"
   ]
  },
  {
   "cell_type": "code",
   "execution_count": 3,
   "metadata": {},
   "outputs": [],
   "source": [
    "def vector_length(x):\n",
    "    return np.sqrt(x@x)"
   ]
  },
  {
   "cell_type": "code",
   "execution_count": 4,
   "metadata": {},
   "outputs": [],
   "source": [
    "def Golden_Section(f, a, b, epsilon):\n",
    "    gamma = (1 + np.sqrt(5))/2  \n",
    "    c = 1/gamma\n",
    "    \n",
    "    x = b - c*(b-a) # defining the x_0\n",
    "    y = a + c*(b-a) # defining the y_0\n",
    "    \n",
    "    fx = f(x)       # defining the f(x_0)\n",
    "    fy = f(y)       # defining the f(y_0)\n",
    "\n",
    "    while abs(b-a) > epsilon:\n",
    "        if fx > fy: \n",
    "            a = x\n",
    "            x = y\n",
    "            fx = fy \n",
    "            \n",
    "            y = a + c*(b-a) \n",
    "            fy = f(y)\n",
    "            \n",
    "        else:\n",
    "            b = y  \n",
    "            y = x  \n",
    "            fy = fx  \n",
    "            \n",
    "            x = b - c*(b-a)\n",
    "            fx = f(x)\n",
    "         \n",
    "    return x"
   ]
  },
  {
   "cell_type": "code",
   "execution_count": 5,
   "metadata": {},
   "outputs": [],
   "source": [
    "#the first function\n",
    "def f1(x):\n",
    "    return np.power(5*x[0]-x[1],4) + np.power(x[0]-2,2) + x[0] - 2*x[1] + 12\n",
    "def df1(x):\n",
    "    dx1 = 20*np.power(5*x[0]-x[1],3) + 2*(x[0]-2) + 1\n",
    "    dx2 = -4*np.power(5*x[0]-x[1],3) - 2\n",
    "    return np.array([dx1, dx2])\n",
    "def H1(x):\n",
    "    x1x1 = 300*np.power(5*x[0]-x[1],2) + 2\n",
    "    x1x2 = x2x1 = -60*np.power(5*x[0]-x[1],2)\n",
    "    x2x2 = 12*np.power(5*x[0]-x[1],2)\n",
    "    return np.array([[x1x1,x1x2],\n",
    "                     [x2x1,x2x2]])\n",
    "\n",
    "#the second function\n",
    "def f2(x):\n",
    "    return 100*np.power(x[1]-np.power(x[0],2),2) + np.power(1-x[0],2)\n",
    "def df2(x):\n",
    "    dx1 = 400*(np.power(x[0],3) - x[0]*x[1]) + 2 * (x[0]-1)\n",
    "    dx2 = 200*(x[1]-np.power(x[0],2))\n",
    "    return np.array([dx1, dx2])\n",
    "def H2(x):\n",
    "    x1x1 = 400*(np.power(3*x[0],2) - x[1]) + 2\n",
    "    x1x2 = x2x1 = -400*x[0]\n",
    "    x2x2 = 200\n",
    "    return np.array([[x1x1,x1x2],\n",
    "                     [x2x1,x2x2]])"
   ]
  },
  {
   "cell_type": "code",
   "execution_count": 6,
   "metadata": {},
   "outputs": [],
   "source": [
    "def NewtonMethod(f,df,H,x_0, epsilon, max_it=1000):\n",
    "    list_x = [x_0]    #hold x values\n",
    "    list_fx = []      #hold f(x) values\n",
    "    list_d = []       #hold directions\n",
    "    list_alpha = []   #hold alpha values\n",
    "    \n",
    "    for it in range(max_it):\n",
    "        x = list_x[it]             #take new x from the previous iteration\n",
    "        df_k = df(x)               #calculate the gradient of the function at x\n",
    "        if vector_length(df_k) <= epsilon:\n",
    "            break                  #stop when the gradient is close enough to zero\n",
    "        \n",
    "        H_k = np.linalg.inv(H(x))  #calculate the inverse of the Hessian of the function at x\n",
    "        d_k = -H_k @ df_k          #calculate the direction\n",
    "        \n",
    "        def f_line(a):\n",
    "            return f(x+a*d_k)      #this function is for the exact line search below\n",
    "        alpha = Golden_Section(f_line, -100, 100, epsilon*1e-1) #find the alpha that minimizes f_line\n",
    "        \n",
    "        x_new = x + alpha * d_k    #find new x\n",
    "        \n",
    "        list_fx.append(f(x))       #calculate and store f(x)\n",
    "        list_d.append(d_k)         #store direction\n",
    "        list_alpha.append(alpha)   #store alpha\n",
    "        list_x.append(x_new)       #store new x\n",
    "\n",
    "    output = pd.DataFrame({'x(k)':list_x[:-1],'f(x(k))':list_fx,'d(k)':list_d,'alpha(k)':list_alpha,'x(k+1)':list_x[1:]})\n",
    "    return output, np.array(list_x)"
   ]
  },
  {
   "cell_type": "code",
   "execution_count": 7,
   "metadata": {
    "tags": []
   },
   "outputs": [
    {
     "data": {
      "text/html": [
       "<div>\n",
       "<style scoped>\n",
       "    .dataframe tbody tr th:only-of-type {\n",
       "        vertical-align: middle;\n",
       "    }\n",
       "\n",
       "    .dataframe tbody tr th {\n",
       "        vertical-align: top;\n",
       "    }\n",
       "\n",
       "    .dataframe thead th {\n",
       "        text-align: right;\n",
       "    }\n",
       "</style>\n",
       "<table border=\"1\" class=\"dataframe\">\n",
       "  <thead>\n",
       "    <tr style=\"text-align: right;\">\n",
       "      <th></th>\n",
       "      <th>x(k)</th>\n",
       "      <th>f(x(k))</th>\n",
       "      <th>d(k)</th>\n",
       "      <th>alpha(k)</th>\n",
       "      <th>x(k+1)</th>\n",
       "    </tr>\n",
       "  </thead>\n",
       "  <tbody>\n",
       "    <tr>\n",
       "      <th>0</th>\n",
       "      <td>[12, -10]</td>\n",
       "      <td>2.401014e+07</td>\n",
       "      <td>[-5.500000000217774, -4.166632654431222]</td>\n",
       "      <td>2.960698</td>\n",
       "      <td>[-4.283836365652249, -22.336138970519052]</td>\n",
       "    </tr>\n",
       "    <tr>\n",
       "      <th>1</th>\n",
       "      <td>[-4.283836365652249, -22.336138970519052]</td>\n",
       "      <td>9.258200e+01</td>\n",
       "      <td>[10.783836365652242, 54.42305567073747]</td>\n",
       "      <td>1.004930</td>\n",
       "      <td>[6.553167713608545, 32.35523952518452]</td>\n",
       "    </tr>\n",
       "    <tr>\n",
       "      <th>2</th>\n",
       "      <td>[6.553167713608545, 32.35523952518452]</td>\n",
       "      <td>-2.539755e+01</td>\n",
       "      <td>[-0.05316771360854502, 0.8596102022696963]</td>\n",
       "      <td>1.070019</td>\n",
       "      <td>[6.496277247731425, 33.27503880863516]</td>\n",
       "    </tr>\n",
       "    <tr>\n",
       "      <th>3</th>\n",
       "      <td>[6.496277247731425, 33.27503880863516]</td>\n",
       "      <td>-2.744054e+01</td>\n",
       "      <td>[0.003722752268575351, 0.018661720246713188]</td>\n",
       "      <td>0.999997</td>\n",
       "      <td>[6.4999999902614505, 33.29370048006367]</td>\n",
       "    </tr>\n",
       "  </tbody>\n",
       "</table>\n",
       "</div>"
      ],
      "text/plain": [
       "                                        x(k)       f(x(k))  \\\n",
       "0                                  [12, -10]  2.401014e+07   \n",
       "1  [-4.283836365652249, -22.336138970519052]  9.258200e+01   \n",
       "2     [6.553167713608545, 32.35523952518452] -2.539755e+01   \n",
       "3     [6.496277247731425, 33.27503880863516] -2.744054e+01   \n",
       "\n",
       "                                           d(k)  alpha(k)  \\\n",
       "0      [-5.500000000217774, -4.166632654431222]  2.960698   \n",
       "1       [10.783836365652242, 54.42305567073747]  1.004930   \n",
       "2    [-0.05316771360854502, 0.8596102022696963]  1.070019   \n",
       "3  [0.003722752268575351, 0.018661720246713188]  0.999997   \n",
       "\n",
       "                                      x(k+1)  \n",
       "0  [-4.283836365652249, -22.336138970519052]  \n",
       "1     [6.553167713608545, 32.35523952518452]  \n",
       "2     [6.496277247731425, 33.27503880863516]  \n",
       "3    [6.4999999902614505, 33.29370048006367]  "
      ]
     },
     "execution_count": 7,
     "metadata": {},
     "output_type": "execute_result"
    }
   ],
   "source": [
    "output1,x1 = NewtonMethod(f1,df1,H1, np.array([12,-10]), 0.0001)\n",
    "output1"
   ]
  },
  {
   "cell_type": "code",
   "execution_count": 8,
   "metadata": {},
   "outputs": [],
   "source": [
    "blue = np.array([0.,0.,1])\n",
    "red = np.array([1.,0.,0.])\n",
    "def color_gradient(n, c1=blue, c2=red):\n",
    "    c = []\n",
    "    for i in range(n):\n",
    "        k = 1-i/n\n",
    "        c.append(k*c1+(1-k)*c2)\n",
    "    return np.array(c)"
   ]
  },
  {
   "cell_type": "code",
   "execution_count": 9,
   "metadata": {},
   "outputs": [
    {
     "data": {
      "text/plain": [
       "<matplotlib.legend.Legend at 0x1a2d0a96c50>"
      ]
     },
     "execution_count": 9,
     "metadata": {},
     "output_type": "execute_result"
    },
    {
     "data": {
      "image/png": "[encoded data removed]",
      "text/plain": [
       "<Figure size 432x288 with 1 Axes>"
      ]
     },
     "metadata": {
      "needs_background": "light"
     },
     "output_type": "display_data"
    }
   ],
   "source": [
    "plt.scatter(x1[:,0], x1[:,1], c = color_gradient(x1.shape[0]), label='Blue to Red')\n",
    "plt.legend(loc='upper left')"
   ]
  },
  {
   "cell_type": "code",
   "execution_count": 10,
   "metadata": {},
   "outputs": [
    {
     "data": {
      "text/html": [
       "<div>\n",
       "<style scoped>\n",
       "    .dataframe tbody tr th:only-of-type {\n",
       "        vertical-align: middle;\n",
       "    }\n",
       "\n",
       "    .dataframe tbody tr th {\n",
       "        vertical-align: top;\n",
       "    }\n",
       "\n",
       "    .dataframe thead th {\n",
       "        text-align: right;\n",
       "    }\n",
       "</style>\n",
       "<table border=\"1\" class=\"dataframe\">\n",
       "  <thead>\n",
       "    <tr style=\"text-align: right;\">\n",
       "      <th></th>\n",
       "      <th>x(k)</th>\n",
       "      <th>f(x(k))</th>\n",
       "      <th>d(k)</th>\n",
       "      <th>alpha(k)</th>\n",
       "      <th>x(k+1)</th>\n",
       "    </tr>\n",
       "  </thead>\n",
       "  <tbody>\n",
       "    <tr>\n",
       "      <th>0</th>\n",
       "      <td>[5, -10]</td>\n",
       "      <td>1.225160e+05</td>\n",
       "      <td>[-0.00010810518634615362, 34.99891894813654]</td>\n",
       "      <td>0.999997</td>\n",
       "      <td>[4.999891895096452, 24.99882739256791]</td>\n",
       "    </tr>\n",
       "    <tr>\n",
       "      <th>1</th>\n",
       "      <td>[4.999891895096452, 24.99882739256791]</td>\n",
       "      <td>1.599914e+01</td>\n",
       "      <td>[-0.00013333096950702457, -0.00124171078432929]</td>\n",
       "      <td>99.999994</td>\n",
       "      <td>[4.986558798944491, 24.874656321573653]</td>\n",
       "    </tr>\n",
       "    <tr>\n",
       "      <th>2</th>\n",
       "      <td>[4.986558798944491, 24.874656321573653]</td>\n",
       "      <td>1.590055e+01</td>\n",
       "      <td>[-0.00013360612124392452, -0.010220135801894164]</td>\n",
       "      <td>1.067423</td>\n",
       "      <td>[4.986416184644039, 24.863747109448216]</td>\n",
       "    </tr>\n",
       "    <tr>\n",
       "      <th>3</th>\n",
       "      <td>[4.986416184644039, 24.863747109448216]</td>\n",
       "      <td>1.589155e+01</td>\n",
       "      <td>[-0.000133600488064148, -0.0007331182401209591]</td>\n",
       "      <td>15.844386</td>\n",
       "      <td>[4.984299366905613, 24.85213130087193]</td>\n",
       "    </tr>\n",
       "    <tr>\n",
       "      <th>4</th>\n",
       "      <td>[4.984299366905613, 24.85213130087193]</td>\n",
       "      <td>1.588255e+01</td>\n",
       "      <td>[-0.00013365149329210493, -0.010223440043040967]</td>\n",
       "      <td>1.067357</td>\n",
       "      <td>[4.984156713053443, 24.841219240941754]</td>\n",
       "    </tr>\n",
       "    <tr>\n",
       "      <th>...</th>\n",
       "      <td>...</td>\n",
       "      <td>...</td>\n",
       "      <td>...</td>\n",
       "      <td>...</td>\n",
       "      <td>...</td>\n",
       "    </tr>\n",
       "    <tr>\n",
       "      <th>1250</th>\n",
       "      <td>[1.0000563448287114, 1.0001143821545588]</td>\n",
       "      <td>3.460121e-09</td>\n",
       "      <td>[-4.690965934063464e-08, -1.783147001106949e-06]</td>\n",
       "      <td>1.009253</td>\n",
       "      <td>[1.0000562974849816, 1.0001125825075137]</td>\n",
       "    </tr>\n",
       "    <tr>\n",
       "      <th>1251</th>\n",
       "      <td>[1.0000562974849816, 1.0001125825075137]</td>\n",
       "      <td>3.169431e-09</td>\n",
       "      <td>[-4.6870234690859465e-08, -7.811389048052458e-08]</td>\n",
       "      <td>99.998862</td>\n",
       "      <td>[1.0000516105148376, 1.000104771207337]</td>\n",
       "    </tr>\n",
       "    <tr>\n",
       "      <th>1252</th>\n",
       "      <td>[1.0000516105148376, 1.000104771207337]</td>\n",
       "      <td>2.903125e-09</td>\n",
       "      <td>[-4.296853094797779e-08, -1.6334555136386368e-06]</td>\n",
       "      <td>1.009253</td>\n",
       "      <td>[1.0000515671487047, 1.0001031226369237]</td>\n",
       "    </tr>\n",
       "    <tr>\n",
       "      <th>1253</th>\n",
       "      <td>[1.0000515671487047, 1.0001031226369237]</td>\n",
       "      <td>2.659191e-09</td>\n",
       "      <td>[-4.29324188994212e-08, -7.15496090320864e-08]</td>\n",
       "      <td>99.984568</td>\n",
       "      <td>[1.0000472745693394, 1.0000959687801598]</td>\n",
       "    </tr>\n",
       "    <tr>\n",
       "      <th>1254</th>\n",
       "      <td>[1.0000472745693394, 1.0000959687801598]</td>\n",
       "      <td>2.435789e-09</td>\n",
       "      <td>[-3.9358963167069864e-08, -1.496128243783891e-06]</td>\n",
       "      <td>1.009247</td>\n",
       "      <td>[1.0000472348464107, 1.0000944588167135]</td>\n",
       "    </tr>\n",
       "  </tbody>\n",
       "</table>\n",
       "<p>1255 rows × 5 columns</p>\n",
       "</div>"
      ],
      "text/plain": [
       "                                          x(k)       f(x(k))  \\\n",
       "0                                     [5, -10]  1.225160e+05   \n",
       "1       [4.999891895096452, 24.99882739256791]  1.599914e+01   \n",
       "2      [4.986558798944491, 24.874656321573653]  1.590055e+01   \n",
       "3      [4.986416184644039, 24.863747109448216]  1.589155e+01   \n",
       "4       [4.984299366905613, 24.85213130087193]  1.588255e+01   \n",
       "...                                        ...           ...   \n",
       "1250  [1.0000563448287114, 1.0001143821545588]  3.460121e-09   \n",
       "1251  [1.0000562974849816, 1.0001125825075137]  3.169431e-09   \n",
       "1252   [1.0000516105148376, 1.000104771207337]  2.903125e-09   \n",
       "1253  [1.0000515671487047, 1.0001031226369237]  2.659191e-09   \n",
       "1254  [1.0000472745693394, 1.0000959687801598]  2.435789e-09   \n",
       "\n",
       "                                                   d(k)   alpha(k)  \\\n",
       "0          [-0.00010810518634615362, 34.99891894813654]   0.999997   \n",
       "1       [-0.00013333096950702457, -0.00124171078432929]  99.999994   \n",
       "2      [-0.00013360612124392452, -0.010220135801894164]   1.067423   \n",
       "3       [-0.000133600488064148, -0.0007331182401209591]  15.844386   \n",
       "4      [-0.00013365149329210493, -0.010223440043040967]   1.067357   \n",
       "...                                                 ...        ...   \n",
       "1250   [-4.690965934063464e-08, -1.783147001106949e-06]   1.009253   \n",
       "1251  [-4.6870234690859465e-08, -7.811389048052458e-08]  99.998862   \n",
       "1252  [-4.296853094797779e-08, -1.6334555136386368e-06]   1.009253   \n",
       "1253     [-4.29324188994212e-08, -7.15496090320864e-08]  99.984568   \n",
       "1254  [-3.9358963167069864e-08, -1.496128243783891e-06]   1.009247   \n",
       "\n",
       "                                        x(k+1)  \n",
       "0       [4.999891895096452, 24.99882739256791]  \n",
       "1      [4.986558798944491, 24.874656321573653]  \n",
       "2      [4.986416184644039, 24.863747109448216]  \n",
       "3       [4.984299366905613, 24.85213130087193]  \n",
       "4      [4.984156713053443, 24.841219240941754]  \n",
       "...                                        ...  \n",
       "1250  [1.0000562974849816, 1.0001125825075137]  \n",
       "1251   [1.0000516105148376, 1.000104771207337]  \n",
       "1252  [1.0000515671487047, 1.0001031226369237]  \n",
       "1253  [1.0000472745693394, 1.0000959687801598]  \n",
       "1254  [1.0000472348464107, 1.0000944588167135]  \n",
       "\n",
       "[1255 rows x 5 columns]"
      ]
     },
     "execution_count": 10,
     "metadata": {},
     "output_type": "execute_result"
    }
   ],
   "source": [
    "output2, x2 = NewtonMethod(f2,df2,H2, np.array([5,-10]), 0.0001, 20000)\n",
    "output2"
   ]
  },
  {
   "cell_type": "code",
   "execution_count": 11,
   "metadata": {},
   "outputs": [
    {
     "data": {
      "text/plain": [
       "<matplotlib.legend.Legend at 0x1a2d2bfbd60>"
      ]
     },
     "execution_count": 11,
     "metadata": {},
     "output_type": "execute_result"
    },
    {
     "data": {
      "image/png": "[encoded data removed]",
      "text/plain": [
       "<Figure size 432x288 with 1 Axes>"
      ]
     },
     "metadata": {
      "needs_background": "light"
     },
     "output_type": "display_data"
    }
   ],
   "source": [
    "plt.scatter(x2[:,0], x2[:,1], c = color_gradient(x2.shape[0]), label='Blue to Red')\n",
    "plt.legend(loc='upper left')"
   ]
  }
 ],
 "metadata": {
  "kernelspec": {
   "display_name": "Python 3 (ipykernel)",
   "language": "python",
   "name": "python3"
  },
  "language_info": {
   "codemirror_mode": {
    "name": "ipython",
    "version": 3
   },
   "file_extension": ".py",
   "mimetype": "text/x-python",
   "name": "python",
   "nbconvert_exporter": "python",
   "pygments_lexer": "ipython3",
   "version": "3.10.8"
  }
 },
 "nbformat": 4,
 "nbformat_minor": 4
}
