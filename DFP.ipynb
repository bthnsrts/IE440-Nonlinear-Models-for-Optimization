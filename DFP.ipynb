{
 "cells": [
  {
   "cell_type": "code",
   "execution_count": 1,
   "id": "5c55e949-e7c7-42f1-bdea-fd3ea9ada58e",
   "metadata": {},
   "outputs": [],
   "source": [
    "import numpy as np\n",
    "import pandas as pd\n",
    "import matplotlib.pyplot as plt"
   ]
  },
  {
   "cell_type": "code",
   "execution_count": 2,
   "id": "b736a6ca-dcfb-4d0a-b65a-800a97920cda",
   "metadata": {},
   "outputs": [],
   "source": [
    "def vector_length(x):\n",
    "    return np.sqrt(x@x)"
   ]
  },
  {
   "cell_type": "code",
   "execution_count": 3,
   "id": "e60cb328-f503-4389-83ce-5eb00c201281",
   "metadata": {},
   "outputs": [],
   "source": [
    "def Golden_Section(f, a, b, epsilon):\n",
    "    gamma = (1 + np.sqrt(5))/2  \n",
    "    c = 1/gamma\n",
    "    \n",
    "    x = b - c*(b-a) # defining the x_0\n",
    "    y = a + c*(b-a) # defining the y_0\n",
    "    \n",
    "    fx = f(x)       # defining the f(x_0)\n",
    "    fy = f(y)       # defining the f(y_0)\n",
    "\n",
    "    while abs(b-a) > epsilon:\n",
    "        if fx > fy: \n",
    "            a = x\n",
    "            x = y\n",
    "            fx = fy \n",
    "            \n",
    "            y = a + c*(b-a) \n",
    "            fy = f(y)\n",
    "            \n",
    "        else:\n",
    "            b = y  \n",
    "            y = x  \n",
    "            fy = fx  \n",
    "            \n",
    "            x = b - c*(b-a)\n",
    "            fx = f(x)\n",
    "         \n",
    "    return x"
   ]
  },
  {
   "cell_type": "code",
   "execution_count": 4,
   "id": "f8a6f40a-4aed-4f90-a63b-b849f1a51faf",
   "metadata": {},
   "outputs": [],
   "source": [
    "#the first function\n",
    "def f1(x):\n",
    "    return np.power(5*x[0]-x[1],4) + np.power(x[0]-2,2) + x[0] - 2*x[1] + 12\n",
    "def df1(x):\n",
    "    dx1 = 20*np.power(5*x[0]-x[1],3) + 2*(x[0]-2) + 1\n",
    "    dx2 = -4*np.power(5*x[0]-x[1],3) - 2\n",
    "    return np.array([dx1, dx2])\n",
    "def H1(x):\n",
    "    x1x1 = 300*np.power(5*x[0]-x[1],2) + 2\n",
    "    x1x2 = x2x1 = -60*np.power(5*x[0]-x[1],2)\n",
    "    x2x2 = 12*np.power(5*x[0]-x[1],2)\n",
    "    return np.array([[x1x1,x1x2],\n",
    "                     [x2x1,x2x2]])\n",
    "\n",
    "#the second function\n",
    "def f2(x):\n",
    "    return 100*np.power(x[1]-np.power(x[0],2),2) + np.power(1-x[0],2)\n",
    "def df2(x):\n",
    "    dx1 = 400*(np.power(x[0],3) - x[0]*x[1]) + 2 * (x[0]-1)\n",
    "    dx2 = 200*(x[1]-np.power(x[0],2))\n",
    "    return np.array([dx1, dx2])\n",
    "def H2(x):\n",
    "    x1x1 = 400*(np.power(3*x[0],2) - x[1]) + 2\n",
    "    x1x2 = x2x1 = -400*x[0]\n",
    "    x2x2 = 200\n",
    "    return np.array([[x1x1,x1x2],\n",
    "                     [x2x1,x2x2]])"
   ]
  },
  {
   "cell_type": "code",
   "execution_count": 5,
   "id": "ef87a6c8-47a2-43ed-b088-24cd817843e9",
   "metadata": {},
   "outputs": [],
   "source": [
    "def DFP(f, df, x_0, epsilon, max_it_h = 100, max_it=100000):\n",
    "    list_x = [x_0]    #hold x values\n",
    "    list_fx = []      #hold f(x) values\n",
    "    list_d = []       #hold directions\n",
    "    list_alpha = []   #hold alpha values\n",
    "    \n",
    "    \n",
    "    for it in range(max_it):\n",
    "        \n",
    "        if it % max_it_h == 0: ## time to reset hessian approximation\n",
    "            A_k = np.array([[1,0],[0,1]])\n",
    "            \n",
    "        x = list_x[it]             #take new x from the previous iteration\n",
    "        df_k = df(x)               #calculate the gradient of the function at x\n",
    "        if vector_length(df_k) <= epsilon:\n",
    "            break                  #stop when the gradient is close enough to zero\n",
    "            \n",
    "        d_k = -A_k @ df_k          #calculate the direction\n",
    "        \n",
    "        def f_line(a):\n",
    "            return f(x+a*d_k)      #this function is for the exact line search below\n",
    "        alpha = Golden_Section(f_line, -100, 100, epsilon*1e-1) #find the alpha that minimizes f_line\n",
    "        \n",
    "        x_new = x + alpha * d_k    #find new x\n",
    "        s_k = alpha * d_k # x_new - x \n",
    "        q_k = df(x_new) \n",
    "        \n",
    "        A_k = A_k + np.multiply.outer(s_k, s_k)/(s_k @ q_k) - np.multiply.outer((A_k @ q_k),(q_k @ A_k))/((q_k @ A_k) @ q_k)\n",
    "        \n",
    "        list_fx.append(f(x))       #calculate and store f(x)\n",
    "        list_d.append(d_k)         #store direction \n",
    "        list_alpha.append(alpha)   #store alpha\n",
    "        list_x.append(x_new)       #store new x\n",
    "\n",
    "    output = pd.DataFrame({'x(k)':list_x[:-1],'f(x(k))':list_fx,'d(k)':list_d,'alpha(k)':list_alpha,'x(k+1)':list_x[1:]})\n",
    "    return output, np.array(list_x)"
   ]
  },
  {
   "cell_type": "code",
   "execution_count": 15,
   "id": "ca4b3093-e1fe-4635-89e5-200cf24f243f",
   "metadata": {},
   "outputs": [
    {
     "data": {
      "text/html": [
       "<div>\n",
       "<style scoped>\n",
       "    .dataframe tbody tr th:only-of-type {\n",
       "        vertical-align: middle;\n",
       "    }\n",
       "\n",
       "    .dataframe tbody tr th {\n",
       "        vertical-align: top;\n",
       "    }\n",
       "\n",
       "    .dataframe thead th {\n",
       "        text-align: right;\n",
       "    }\n",
       "</style>\n",
       "<table border=\"1\" class=\"dataframe\">\n",
       "  <thead>\n",
       "    <tr style=\"text-align: right;\">\n",
       "      <th></th>\n",
       "      <th>x(k)</th>\n",
       "      <th>f(x(k))</th>\n",
       "      <th>d(k)</th>\n",
       "      <th>alpha(k)</th>\n",
       "      <th>x(k+1)</th>\n",
       "    </tr>\n",
       "  </thead>\n",
       "  <tbody>\n",
       "    <tr>\n",
       "      <th>0</th>\n",
       "      <td>[5, -10]</td>\n",
       "      <td>1.500671e+06</td>\n",
       "      <td>[-857507, 171502]</td>\n",
       "      <td>0.000007</td>\n",
       "      <td>[-0.7433810088990622, -8.851319779560741]</td>\n",
       "    </tr>\n",
       "    <tr>\n",
       "      <th>1</th>\n",
       "      <td>[-0.7433810088990622, -8.851319779560741]</td>\n",
       "      <td>7.314518e+02</td>\n",
       "      <td>[5.74338100889895, -1.1486802204393598]</td>\n",
       "      <td>-0.150029</td>\n",
       "      <td>[-1.6050567921146612, -8.678984020000694]</td>\n",
       "    </tr>\n",
       "    <tr>\n",
       "      <th>2</th>\n",
       "      <td>[-1.6050567921146612, -8.678984020000694]</td>\n",
       "      <td>4.093195e+01</td>\n",
       "      <td>[0.8616757832155599, -0.17233575956015557]</td>\n",
       "      <td>-0.000003</td>\n",
       "      <td>[-1.605059373119627, -8.678983503797895]</td>\n",
       "    </tr>\n",
       "    <tr>\n",
       "      <th>3</th>\n",
       "      <td>[-1.605059373119627, -8.678983503797895]</td>\n",
       "      <td>4.093195e+01</td>\n",
       "      <td>[2.5810043256749987e-06, -5.162028501974614e-07]</td>\n",
       "      <td>0.465181</td>\n",
       "      <td>[-1.6050581724858868, -8.678983743925565]</td>\n",
       "    </tr>\n",
       "    <tr>\n",
       "      <th>4</th>\n",
       "      <td>[-1.6050581724858868, -8.678983743925565]</td>\n",
       "      <td>4.093195e+01</td>\n",
       "      <td>[-1.2006337404280032e-06, 2.401276714414369e-07]</td>\n",
       "      <td>-0.009136</td>\n",
       "      <td>[-1.6050581615171882, -8.678983746119313]</td>\n",
       "    </tr>\n",
       "    <tr>\n",
       "      <th>...</th>\n",
       "      <td>...</td>\n",
       "      <td>...</td>\n",
       "      <td>...</td>\n",
       "      <td>...</td>\n",
       "      <td>...</td>\n",
       "    </tr>\n",
       "    <tr>\n",
       "      <th>596</th>\n",
       "      <td>[6.49990624799177, 33.293310016602845]</td>\n",
       "      <td>-2.744055e+01</td>\n",
       "      <td>[5.2894697262490095e-09, 2.8121560650224905e-08]</td>\n",
       "      <td>7.164424</td>\n",
       "      <td>[6.499906285887774, 33.29331021807763]</td>\n",
       "    </tr>\n",
       "    <tr>\n",
       "      <th>597</th>\n",
       "      <td>[6.499906285887774, 33.29331021807763]</td>\n",
       "      <td>-2.744055e+01</td>\n",
       "      <td>[-3.7896003360847995e-08, -2.0147478141819414e...</td>\n",
       "      <td>-2.322747</td>\n",
       "      <td>[6.4999063739105845, 33.29331068605248]</td>\n",
       "    </tr>\n",
       "    <tr>\n",
       "      <th>598</th>\n",
       "      <td>[6.4999063739105845, 33.29331068605248]</td>\n",
       "      <td>-2.744055e+01</td>\n",
       "      <td>[-8.802281029627115e-08, -4.679748493649494e-07]</td>\n",
       "      <td>0.297313</td>\n",
       "      <td>[6.499906347740263, 33.293310546917496]</td>\n",
       "    </tr>\n",
       "    <tr>\n",
       "      <th>599</th>\n",
       "      <td>[6.499906347740263, 33.293310546917496]</td>\n",
       "      <td>-2.744055e+01</td>\n",
       "      <td>[2.617032088085558e-08, 1.3913498025930338e-07]</td>\n",
       "      <td>-3.050564</td>\n",
       "      <td>[6.499906267906015, 33.29331012247728]</td>\n",
       "    </tr>\n",
       "    <tr>\n",
       "      <th>600</th>\n",
       "      <td>[6.499906267906015, 33.29331012247728]</td>\n",
       "      <td>-2.744055e+01</td>\n",
       "      <td>[0.0031456836957239886, -0.0005916439015507535]</td>\n",
       "      <td>0.005035</td>\n",
       "      <td>[6.499922106882092, 33.29330714346397]</td>\n",
       "    </tr>\n",
       "  </tbody>\n",
       "</table>\n",
       "<p>601 rows × 5 columns</p>\n",
       "</div>"
      ],
      "text/plain": [
       "                                          x(k)       f(x(k))  \\\n",
       "0                                     [5, -10]  1.500671e+06   \n",
       "1    [-0.7433810088990622, -8.851319779560741]  7.314518e+02   \n",
       "2    [-1.6050567921146612, -8.678984020000694]  4.093195e+01   \n",
       "3     [-1.605059373119627, -8.678983503797895]  4.093195e+01   \n",
       "4    [-1.6050581724858868, -8.678983743925565]  4.093195e+01   \n",
       "..                                         ...           ...   \n",
       "596     [6.49990624799177, 33.293310016602845] -2.744055e+01   \n",
       "597     [6.499906285887774, 33.29331021807763] -2.744055e+01   \n",
       "598    [6.4999063739105845, 33.29331068605248] -2.744055e+01   \n",
       "599    [6.499906347740263, 33.293310546917496] -2.744055e+01   \n",
       "600     [6.499906267906015, 33.29331012247728] -2.744055e+01   \n",
       "\n",
       "                                                  d(k)  alpha(k)  \\\n",
       "0                                    [-857507, 171502]  0.000007   \n",
       "1              [5.74338100889895, -1.1486802204393598] -0.150029   \n",
       "2           [0.8616757832155599, -0.17233575956015557] -0.000003   \n",
       "3     [2.5810043256749987e-06, -5.162028501974614e-07]  0.465181   \n",
       "4     [-1.2006337404280032e-06, 2.401276714414369e-07] -0.009136   \n",
       "..                                                 ...       ...   \n",
       "596   [5.2894697262490095e-09, 2.8121560650224905e-08]  7.164424   \n",
       "597  [-3.7896003360847995e-08, -2.0147478141819414e... -2.322747   \n",
       "598   [-8.802281029627115e-08, -4.679748493649494e-07]  0.297313   \n",
       "599    [2.617032088085558e-08, 1.3913498025930338e-07] -3.050564   \n",
       "600    [0.0031456836957239886, -0.0005916439015507535]  0.005035   \n",
       "\n",
       "                                        x(k+1)  \n",
       "0    [-0.7433810088990622, -8.851319779560741]  \n",
       "1    [-1.6050567921146612, -8.678984020000694]  \n",
       "2     [-1.605059373119627, -8.678983503797895]  \n",
       "3    [-1.6050581724858868, -8.678983743925565]  \n",
       "4    [-1.6050581615171882, -8.678983746119313]  \n",
       "..                                         ...  \n",
       "596     [6.499906285887774, 33.29331021807763]  \n",
       "597    [6.4999063739105845, 33.29331068605248]  \n",
       "598    [6.499906347740263, 33.293310546917496]  \n",
       "599     [6.499906267906015, 33.29331012247728]  \n",
       "600     [6.499922106882092, 33.29330714346397]  \n",
       "\n",
       "[601 rows x 5 columns]"
      ]
     },
     "execution_count": 15,
     "metadata": {},
     "output_type": "execute_result"
    }
   ],
   "source": [
    "output1,x1 = DFP(f1, df1, np.array([5,-10]), 0.0001)\n",
    "output1"
   ]
  },
  {
   "cell_type": "code",
   "execution_count": 16,
   "id": "f0548ca4-89ec-44a6-ae58-29a4ea2c5479",
   "metadata": {},
   "outputs": [
    {
     "data": {
      "text/plain": [
       "array([ 6.49990627, 33.29331012])"
      ]
     },
     "execution_count": 16,
     "metadata": {},
     "output_type": "execute_result"
    }
   ],
   "source": [
    "output1['x(k)'].tail(1).values[0]"
   ]
  },
  {
   "cell_type": "code",
   "execution_count": 17,
   "id": "3f12b6f4-7377-4d1f-bbb7-38c58b2de2a7",
   "metadata": {},
   "outputs": [
    {
     "data": {
      "text/plain": [
       "-27.440550757041073"
      ]
     },
     "execution_count": 17,
     "metadata": {},
     "output_type": "execute_result"
    }
   ],
   "source": [
    "f1(output1['x(k)'].tail(1).values[0])"
   ]
  },
  {
   "cell_type": "code",
   "execution_count": 49,
   "id": "069d847c-f542-49f1-887a-b48ce2529312",
   "metadata": {},
   "outputs": [],
   "source": [
    "blue = np.array([0.,0.,1])\n",
    "red = np.array([1.,0.,0.])\n",
    "def color_gradient(n, c1=blue, c2=red):\n",
    "    c = []\n",
    "    for i in range(n):\n",
    "        k = 1-i/n\n",
    "        c.append(k*c1+(1-k)*c2)\n",
    "    return np.array(c)"
   ]
  },
  {
   "cell_type": "code",
   "execution_count": 51,
   "id": "8c42dc3f-bf4c-4189-9ca3-76a9af761f4a",
   "metadata": {},
   "outputs": [
    {
     "data": {
      "text/plain": [
       "<matplotlib.legend.Legend at 0x1ee45eb64f0>"
      ]
     },
     "execution_count": 51,
     "metadata": {},
     "output_type": "execute_result"
    },
    {
     "data": {
      "image/png": "[encoded data removed]",
      "text/plain": [
       "<Figure size 432x288 with 1 Axes>"
      ]
     },
     "metadata": {
      "needs_background": "light"
     },
     "output_type": "display_data"
    }
   ],
   "source": [
    "plt.scatter(x1[:,0], x1[:,1], c = color_gradient(x1.shape[0]), label='iterations by color: \\n Blue => Red')\n",
    "plt.legend(loc='upper left')"
   ]
  },
  {
   "cell_type": "code",
   "execution_count": 18,
   "id": "5ba6a7a0-b22f-4dbb-b68c-7f84abc4c4a9",
   "metadata": {},
   "outputs": [
    {
     "data": {
      "text/html": [
       "<div>\n",
       "<style scoped>\n",
       "    .dataframe tbody tr th:only-of-type {\n",
       "        vertical-align: middle;\n",
       "    }\n",
       "\n",
       "    .dataframe tbody tr th {\n",
       "        vertical-align: top;\n",
       "    }\n",
       "\n",
       "    .dataframe thead th {\n",
       "        text-align: right;\n",
       "    }\n",
       "</style>\n",
       "<table border=\"1\" class=\"dataframe\">\n",
       "  <thead>\n",
       "    <tr style=\"text-align: right;\">\n",
       "      <th></th>\n",
       "      <th>x(k)</th>\n",
       "      <th>f(x(k))</th>\n",
       "      <th>d(k)</th>\n",
       "      <th>alpha(k)</th>\n",
       "      <th>x(k+1)</th>\n",
       "    </tr>\n",
       "  </thead>\n",
       "  <tbody>\n",
       "    <tr>\n",
       "      <th>0</th>\n",
       "      <td>[1, -1]</td>\n",
       "      <td>400.000000</td>\n",
       "      <td>[-800, 400]</td>\n",
       "      <td>0.001545</td>\n",
       "      <td>[-0.2358293922474577, -0.38208530387627115]</td>\n",
       "    </tr>\n",
       "    <tr>\n",
       "      <th>1</th>\n",
       "      <td>[-0.2358293922474577, -0.38208530387627115]</td>\n",
       "      <td>20.685474</td>\n",
       "      <td>[1.2358293922470693, -0.6179146961244442]</td>\n",
       "      <td>-0.000043</td>\n",
       "      <td>[-0.23588234516171283, -0.38205882741914354]</td>\n",
       "    </tr>\n",
       "    <tr>\n",
       "      <th>2</th>\n",
       "      <td>[-0.23588234516171283, -0.38205882741914354]</td>\n",
       "      <td>20.685474</td>\n",
       "      <td>[5.295291339280084e-05, -2.647645715114777e-05]</td>\n",
       "      <td>0.005170</td>\n",
       "      <td>[-0.23588207138971398, -0.3820589643051453]</td>\n",
       "    </tr>\n",
       "    <tr>\n",
       "      <th>3</th>\n",
       "      <td>[-0.23588207138971398, -0.3820589643051453]</td>\n",
       "      <td>20.685474</td>\n",
       "      <td>[-2.7377324585131646e-07, 1.3688537947587065e-07]</td>\n",
       "      <td>-8.234888</td>\n",
       "      <td>[-0.23587981689772003, -0.3820600915409026]</td>\n",
       "    </tr>\n",
       "    <tr>\n",
       "      <th>4</th>\n",
       "      <td>[-0.23587981689772003, -0.3820600915409026]</td>\n",
       "      <td>20.685474</td>\n",
       "      <td>[-2.2544919886513526e-06, 1.1272357482994266e-06]</td>\n",
       "      <td>0.000964</td>\n",
       "      <td>[-0.23587981907214953, -0.3820600904536977]</td>\n",
       "    </tr>\n",
       "    <tr>\n",
       "      <th>...</th>\n",
       "      <td>...</td>\n",
       "      <td>...</td>\n",
       "      <td>...</td>\n",
       "      <td>...</td>\n",
       "      <td>...</td>\n",
       "    </tr>\n",
       "    <tr>\n",
       "      <th>99995</th>\n",
       "      <td>[0.9852630794184378, 0.970960129419554]</td>\n",
       "      <td>0.000222</td>\n",
       "      <td>[-1.6135587375780414e-10, -4.276404653568572e-10]</td>\n",
       "      <td>2.695519</td>\n",
       "      <td>[0.9852630789835, 0.9709601282668407]</td>\n",
       "    </tr>\n",
       "    <tr>\n",
       "      <th>99996</th>\n",
       "      <td>[0.9852630789835, 0.9709601282668407]</td>\n",
       "      <td>0.000222</td>\n",
       "      <td>[4.349379007992371e-10, 1.1527131991984074e-09]</td>\n",
       "      <td>-0.366610</td>\n",
       "      <td>[0.9852630788240474, 0.9709601278442446]</td>\n",
       "    </tr>\n",
       "    <tr>\n",
       "      <th>99997</th>\n",
       "      <td>[0.9852630788240474, 0.9709601278442446]</td>\n",
       "      <td>0.000222</td>\n",
       "      <td>[1.5945257581754385e-10, 4.2259616552658974e-10]</td>\n",
       "      <td>1.552810</td>\n",
       "      <td>[0.985263079071647, 0.9709601285004561]</td>\n",
       "    </tr>\n",
       "    <tr>\n",
       "      <th>99998</th>\n",
       "      <td>[0.985263079071647, 0.9709601285004561]</td>\n",
       "      <td>0.000222</td>\n",
       "      <td>[-2.475995797279751e-10, -6.56211529559414e-10]</td>\n",
       "      <td>-0.309651</td>\n",
       "      <td>[0.9852630791483166, 0.970960128703653]</td>\n",
       "    </tr>\n",
       "    <tr>\n",
       "      <th>99999</th>\n",
       "      <td>[0.9852630791483166, 0.970960128703653]</td>\n",
       "      <td>0.000222</td>\n",
       "      <td>[-7.666956132468261e-11, -2.031969210947171e-10]</td>\n",
       "      <td>8.203932</td>\n",
       "      <td>[0.9852630785193247, 0.9709601270366393]</td>\n",
       "    </tr>\n",
       "  </tbody>\n",
       "</table>\n",
       "<p>100000 rows × 5 columns</p>\n",
       "</div>"
      ],
      "text/plain": [
       "                                               x(k)     f(x(k))  \\\n",
       "0                                           [1, -1]  400.000000   \n",
       "1       [-0.2358293922474577, -0.38208530387627115]   20.685474   \n",
       "2      [-0.23588234516171283, -0.38205882741914354]   20.685474   \n",
       "3       [-0.23588207138971398, -0.3820589643051453]   20.685474   \n",
       "4       [-0.23587981689772003, -0.3820600915409026]   20.685474   \n",
       "...                                             ...         ...   \n",
       "99995       [0.9852630794184378, 0.970960129419554]    0.000222   \n",
       "99996         [0.9852630789835, 0.9709601282668407]    0.000222   \n",
       "99997      [0.9852630788240474, 0.9709601278442446]    0.000222   \n",
       "99998       [0.985263079071647, 0.9709601285004561]    0.000222   \n",
       "99999       [0.9852630791483166, 0.970960128703653]    0.000222   \n",
       "\n",
       "                                                    d(k)  alpha(k)  \\\n",
       "0                                            [-800, 400]  0.001545   \n",
       "1              [1.2358293922470693, -0.6179146961244442] -0.000043   \n",
       "2        [5.295291339280084e-05, -2.647645715114777e-05]  0.005170   \n",
       "3      [-2.7377324585131646e-07, 1.3688537947587065e-07] -8.234888   \n",
       "4      [-2.2544919886513526e-06, 1.1272357482994266e-06]  0.000964   \n",
       "...                                                  ...       ...   \n",
       "99995  [-1.6135587375780414e-10, -4.276404653568572e-10]  2.695519   \n",
       "99996    [4.349379007992371e-10, 1.1527131991984074e-09] -0.366610   \n",
       "99997   [1.5945257581754385e-10, 4.2259616552658974e-10]  1.552810   \n",
       "99998    [-2.475995797279751e-10, -6.56211529559414e-10] -0.309651   \n",
       "99999   [-7.666956132468261e-11, -2.031969210947171e-10]  8.203932   \n",
       "\n",
       "                                             x(k+1)  \n",
       "0       [-0.2358293922474577, -0.38208530387627115]  \n",
       "1      [-0.23588234516171283, -0.38205882741914354]  \n",
       "2       [-0.23588207138971398, -0.3820589643051453]  \n",
       "3       [-0.23587981689772003, -0.3820600915409026]  \n",
       "4       [-0.23587981907214953, -0.3820600904536977]  \n",
       "...                                             ...  \n",
       "99995         [0.9852630789835, 0.9709601282668407]  \n",
       "99996      [0.9852630788240474, 0.9709601278442446]  \n",
       "99997       [0.985263079071647, 0.9709601285004561]  \n",
       "99998       [0.9852630791483166, 0.970960128703653]  \n",
       "99999      [0.9852630785193247, 0.9709601270366393]  \n",
       "\n",
       "[100000 rows x 5 columns]"
      ]
     },
     "execution_count": 18,
     "metadata": {},
     "output_type": "execute_result"
    }
   ],
   "source": [
    "output2, x2 = DFP(f2,df2, np.array([1,-1]), 0.00001)\n",
    "output2"
   ]
  },
  {
   "cell_type": "code",
   "execution_count": 20,
   "id": "86e85329-67e3-479a-b5cb-4cfa2484e273",
   "metadata": {},
   "outputs": [
    {
     "data": {
      "text/plain": [
       "0.00022187678142414935"
      ]
     },
     "execution_count": 20,
     "metadata": {},
     "output_type": "execute_result"
    }
   ],
   "source": [
    "f2(output2['x(k)'].tail(1).values[0])"
   ]
  },
  {
   "cell_type": "code",
   "execution_count": 19,
   "id": "27f767eb-3fe2-4aba-877d-436ca09143e4",
   "metadata": {},
   "outputs": [
    {
     "ename": "NameError",
     "evalue": "name 'color_gradient' is not defined",
     "output_type": "error",
     "traceback": [
      "\u001b[1;31m---------------------------------------------------------------------------\u001b[0m",
      "\u001b[1;31mNameError\u001b[0m                                 Traceback (most recent call last)",
      "\u001b[1;32m~\\AppData\\Local\\Temp/ipykernel_18096/997506370.py\u001b[0m in \u001b[0;36m<module>\u001b[1;34m\u001b[0m\n\u001b[1;32m----> 1\u001b[1;33m \u001b[0mplt\u001b[0m\u001b[1;33m.\u001b[0m\u001b[0mscatter\u001b[0m\u001b[1;33m(\u001b[0m\u001b[0mx2\u001b[0m\u001b[1;33m[\u001b[0m\u001b[1;33m:\u001b[0m\u001b[1;33m,\u001b[0m\u001b[1;36m0\u001b[0m\u001b[1;33m]\u001b[0m\u001b[1;33m,\u001b[0m \u001b[0mx2\u001b[0m\u001b[1;33m[\u001b[0m\u001b[1;33m:\u001b[0m\u001b[1;33m,\u001b[0m\u001b[1;36m1\u001b[0m\u001b[1;33m]\u001b[0m\u001b[1;33m,\u001b[0m \u001b[0mc\u001b[0m \u001b[1;33m=\u001b[0m \u001b[0mcolor_gradient\u001b[0m\u001b[1;33m(\u001b[0m\u001b[0mx2\u001b[0m\u001b[1;33m.\u001b[0m\u001b[0mshape\u001b[0m\u001b[1;33m[\u001b[0m\u001b[1;36m0\u001b[0m\u001b[1;33m]\u001b[0m\u001b[1;33m)\u001b[0m\u001b[1;33m,\u001b[0m \u001b[0mlabel\u001b[0m\u001b[1;33m=\u001b[0m\u001b[1;34m'iterations by color: Blue => Red'\u001b[0m\u001b[1;33m)\u001b[0m\u001b[1;33m\u001b[0m\u001b[1;33m\u001b[0m\u001b[0m\n\u001b[0m\u001b[0;32m      2\u001b[0m \u001b[0mplt\u001b[0m\u001b[1;33m.\u001b[0m\u001b[0mlegend\u001b[0m\u001b[1;33m(\u001b[0m\u001b[0mloc\u001b[0m\u001b[1;33m=\u001b[0m\u001b[1;34m'upper left'\u001b[0m\u001b[1;33m)\u001b[0m\u001b[1;33m\u001b[0m\u001b[1;33m\u001b[0m\u001b[0m\n",
      "\u001b[1;31mNameError\u001b[0m: name 'color_gradient' is not defined"
     ]
    }
   ],
   "source": [
    "plt.scatter(x2[:,0], x2[:,1], c = color_gradient(x2.shape[0]), label='iterations by color: Blue => Red')\n",
    "plt.legend(loc='upper left')"
   ]
  },
  {
   "cell_type": "code",
   "execution_count": null,
   "id": "4b2457ca-a84a-4334-a500-a48c51604c87",
   "metadata": {},
   "outputs": [],
   "source": []
  },
  {
   "cell_type": "code",
   "execution_count": null,
   "id": "f6080dd5-d982-4cde-a0a2-5f353f33e6b0",
   "metadata": {},
   "outputs": [],
   "source": []
  },
  {
   "cell_type": "code",
   "execution_count": null,
   "id": "095a2b3e-5937-4f3f-b467-b679e3308464",
   "metadata": {},
   "outputs": [],
   "source": []
  }
 ],
 "metadata": {
  "kernelspec": {
   "display_name": "Python 3 (ipykernel)",
   "language": "python",
   "name": "python3"
  },
  "language_info": {
   "codemirror_mode": {
    "name": "ipython",
    "version": 3
   },
   "file_extension": ".py",
   "mimetype": "text/x-python",
   "name": "python",
   "nbconvert_exporter": "python",
   "pygments_lexer": "ipython3",
   "version": "3.9.7"
  }
 },
 "nbformat": 4,
 "nbformat_minor": 5
}
