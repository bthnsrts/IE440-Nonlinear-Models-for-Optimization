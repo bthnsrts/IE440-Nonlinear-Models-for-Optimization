{
 "cells": [
  {
   "cell_type": "code",
   "execution_count": 1,
   "metadata": {},
   "outputs": [
    {
     "name": "stdout",
     "output_type": "stream",
     "text": [
      "    Demand\n",
      "0        3\n",
      "1       12\n",
      "2       17\n",
      "3       13\n",
      "4        9\n",
      "..     ...\n",
      "95      11\n",
      "96       6\n",
      "97       1\n",
      "98      16\n",
      "99      17\n",
      "\n",
      "[100 rows x 1 columns]\n",
      "     x   y\n",
      "0   92  54\n",
      "1   30  59\n",
      "2   67  51\n",
      "3    0  92\n",
      "4   65  90\n",
      "..  ..  ..\n",
      "95  70  29\n",
      "96  68  94\n",
      "97   5  49\n",
      "98  54  27\n",
      "99  61  43\n",
      "\n",
      "[100 rows x 2 columns]\n",
      "    F1  F2  F3  F4  F5  F6  F7  F8  F9  F10\n",
      "0    5   4   8   9   3   1   6   5   4    5\n",
      "1    8   2   6   4   8   2   6  10  10    7\n",
      "2    9   4   4   7   8   5   4   5   4    9\n",
      "3    1   3   7   7   1   1   8   8   9    4\n",
      "4    1   2   7   3   9   5   5   4   9    1\n",
      "..  ..  ..  ..  ..  ..  ..  ..  ..  ..  ...\n",
      "95   3   5   5   1   1   9   7   8   3    8\n",
      "96   4   8   9   6   8   2   2   9   1    3\n",
      "97   1   2   8   2   7   6   7   7   1   10\n",
      "98   3   6   6  10   7   8   9   8   3    4\n",
      "99   5   7   5   9   2   3   4   2   3    6\n",
      "\n",
      "[100 rows x 10 columns]\n",
      "(55.38975662913185, 51.29985470395932)\n"
     ]
    }
   ],
   "source": [
    "import pandas as pd\n",
    "import numpy as np\n",
    "\n",
    "demands= pd.read_csv(\"g4_demands.csv\" ,  names=[\"Demand\"])\n",
    "demands = pd.DataFrame(demands)\n",
    "\n",
    "demand_locs= pd.read_csv(\"g4_coordinates.csv\" , names=[\"x\", \"y\"])\n",
    "demand_locs = pd.DataFrame(demand_locs)\n",
    "\n",
    "cost_matrix= pd.read_csv(\"g4_costs.csv\", names=[\"F1\", \"F2\", \"F3\",\"F4\",\"F5\",\"F6\",\"F7\",\"F8\",\"F9\",\"F10\"])\n",
    "cost_matrix = pd.DataFrame(cost_matrix)\n",
    "\n",
    "print(demands)\n",
    "print(demand_locs)\n",
    "print(cost_matrix)\n",
    "#print(cost_matrix[\"F6\"] * demands[\"Demand\"] * demand_locs[\"x\"] )\n",
    "def single_facility_problem_squared_euc():  #Single Facility Prob. for the squared Euclidian Distance.\n",
    "    facility_no = 6           # Out of 10 facilities 1 is randomly selected\n",
    "    \n",
    "    # obj func = sum(H_j * c_ij * d(X, a_j))\n",
    "    # Solving the obj func yields:\n",
    "    # X_i = sum_over_j(C_j*H_j*A_ij) / sum_over_j(C_j*H_j)\n",
    "    # X_x = sum_over_j(C_j*H_j*A_xj) / sum_over_j(C_j*H_j)\n",
    "    # X_y = sum_over_j(C_j*H_j*A_yj) / sum_over_j(C_j*H_j)\n",
    "    \n",
    "    X_x = sum(cost_matrix[\"F6\"] * demands[\"Demand\"] * demand_locs[\"x\"] ) / sum( demands[\"Demand\"] * cost_matrix[\"F6\"]  )\n",
    "    X_y = sum(cost_matrix[\"F6\"] * demands[\"Demand\"] * demand_locs[\"y\"] ) / sum( demands[\"Demand\"] * cost_matrix[\"F6\"]  )\n",
    "    \n",
    "    return (X_x, X_y)\n",
    "\n",
    "print(single_facility_problem_squared_euc())"
   ]
  },
  {
   "cell_type": "code",
   "execution_count": null,
   "metadata": {},
   "outputs": [],
   "source": []
  }
 ],
 "metadata": {
  "kernelspec": {
   "display_name": "Python 3 (ipykernel)",
   "language": "python",
   "name": "python3"
  },
  "language_info": {
   "codemirror_mode": {
    "name": "ipython",
    "version": 3
   },
   "file_extension": ".py",
   "mimetype": "text/x-python",
   "name": "python",
   "nbconvert_exporter": "python",
   "pygments_lexer": "ipython3",
   "version": "3.9.7"
  }
 },
 "nbformat": 4,
 "nbformat_minor": 4
}
