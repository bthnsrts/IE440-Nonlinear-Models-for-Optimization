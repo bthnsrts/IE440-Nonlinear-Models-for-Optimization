{
 "cells": [
  {
   "cell_type": "code",
   "execution_count": 1,
   "id": "1a1ac13c-670b-4f3f-9137-3ac310d0ab22",
   "metadata": {},
   "outputs": [],
   "source": [
    "import pandas as pd\n",
    "import numpy as np\n",
    "import matplotlib.pyplot as plt"
   ]
  },
  {
   "cell_type": "code",
   "execution_count": null,
   "id": "08cc1783-d1d8-4b6e-859d-9346c5c3b9ef",
   "metadata": {},
   "outputs": [],
   "source": [
    "demands= pd.read_csv(\"g 4_demands.csv\" ,  names=[\"Demand\"])\n",
    "customer_locs = pd.read_csv(\"g 4_coordinates.csv\" , names=[\"x1\", \"x2\"])\n",
    "cost_matrix= pd.read_csv(\"g 4_costs.csv\", names=['F'+str(i) for i in range(1,11)])"
   ]
  },
  {
   "cell_type": "code",
   "execution_count": 262,
   "id": "70ffc09b-7059-43ef-a140-b3d99d89e725",
   "metadata": {},
   "outputs": [],
   "source": [
    "def euclidean_distance_matrix(X, A):\n",
    "    m = len(X.index) #number of facilities\n",
    "    n = len(A.index) #number of customers\n",
    "    \n",
    "    D = np.zeros((m,n))\n",
    "    \n",
    "    for i in range(m):\n",
    "        for j in range(n):\n",
    "            D[i,j] = euclidean_dist(X.iloc[i,0],X.iloc[i,1],A.iloc[j,0], A.iloc[j,1])     \n",
    "    \n",
    "    return(D)"
   ]
  },
  {
   "cell_type": "code",
   "execution_count": 263,
   "id": "f0ab99d9-9f61-4eb6-8d82-190c8a29f793",
   "metadata": {},
   "outputs": [],
   "source": [
    "def euclidean_dist(x,y,a1,a2):\n",
    "    return(np.sqrt((x-a1)**2+(y-a2)**2))"
   ]
  },
  {
   "cell_type": "code",
   "execution_count": 264,
   "id": "a6c90433-0390-4cca-a2c0-d2ef1d576355",
   "metadata": {},
   "outputs": [],
   "source": [
    "def Weiszfeld_Algo_Vectorized(C, A): ## takes cost matrix and customer locations\n",
    "    \n",
    "    X = C.T @ A \n",
    "    x = [0, X.iloc[0]] ## initial x1 for the single facility location\n",
    "    y = [0, X.iloc[1]] ## initial x2 for the single facility location\n",
    "        \n",
    "    while euclidean_dist(x[-1],y[-1],x[-2],y[-2]) >=1e-6:  ## stop if euclidean distance between two iterations is small enough\n",
    "        \n",
    "        \n",
    "        x_new = np.sum(C.iloc[:]*A.iloc[:,0]/euclidean_dist(x[-1],y[-1],A.iloc[:,0],A.iloc[:,1]))/\\\n",
    "            np.sum(C.iloc[:]/euclidean_dist(x[-1],y[-1],A.iloc[:,0],A.iloc[:,1])) ## new x1 \n",
    "            \n",
    "        y_new = np.sum(C.iloc[:]*A.iloc[:,1]/euclidean_dist(x[-1],y[-1],A.iloc[:,0],A.iloc[:,1]))/\\\n",
    "            np.sum(C.iloc[:]/euclidean_dist(x[-1],y[-1],A.iloc[:,0],A.iloc[:,1])) ## new x2\n",
    "     \n",
    "        \n",
    "        x.append(x_new)\n",
    "        y.append(y_new)\n",
    "        \n",
    "    return([x[-1],y[-1]])"
   ]
  },
  {
   "cell_type": "code",
   "execution_count": 280,
   "id": "4a797eea-074e-4d39-96a9-1963d508549f",
   "metadata": {},
   "outputs": [],
   "source": [
    "def multi_facility_euc(C, A):\n",
    "    #C gives the total cost of assigning facility i to customer j per unit distance\n",
    "    #A is the customer locations\n",
    "    \n",
    "    m = len(C.columns) #number of facilities\n",
    "    n = len(A.index) #number of customers\n",
    "    \n",
    "    #split customers into facilities randomly for the initilization\n",
    "    S = np.array_split(np.random.permutation(n),m) \n",
    "    \n",
    "    #Create X dataframe to store the locations of the facilities \n",
    "    X = pd.DataFrame({'x1':np.zeros(m),'x2':np.zeros(m)})\n",
    "    \n",
    "    max_it = 50 ## max iteration set to 50, however; this limit is almost impossible to reach since obj. value would converge faster\n",
    "    old_objective = -1 ## pseudo objective value for initialization\n",
    "    \n",
    "    for it in range(max_it):\n",
    "        \n",
    "        #solve m single facility problem\n",
    "        #assign facility locations\n",
    "        for i in range(m):\n",
    "            #if no customer is assigned to facility i, put facility i on top of a random customer\n",
    "            if len(S[i]) == 0:\n",
    "                X.iloc[i,] = A.iloc[np.random.randint(0,n),]\n",
    "            #proceed normally otherwise\n",
    "            else: \n",
    "                Ci = C.iloc[S[i],i] #costs between facility i and customers of facility i\n",
    "                Ai = A.iloc[S[i],] #customers of facility i\n",
    "                X.iloc[i,] = Weiszfeld_Algo_Vectorized(Ci, Ai) ## Facility location with weiszfeld algorithm\n",
    "            \n",
    "        #calculate distances\n",
    "        D = pd.DataFrame(euclidean_distance_matrix(X, A))\n",
    "        \n",
    "        #calculate objective value\n",
    "        objective = 0\n",
    "        for i in range(m):\n",
    "            Di = D.iloc[i,S[i]] #distance between facility i and customers of facility i\n",
    "            Ci = C.iloc[S[i],i] #costs between facility i and customers of facility i\n",
    "            objective += Di @ Ci\n",
    "        \n",
    "        #stop if no progress\n",
    "        if old_objective == objective:\n",
    "            break\n",
    "        old_objective = objective #record objective for next iteration\n",
    "        \n",
    "        #Reallocate customers to facilities \n",
    "        S = [[] for _ in range(m)]\n",
    "        for j in range(n):\n",
    "            i = np.argmin(D.iloc[:,j]) #find closest facility to customer j\n",
    "            S[i].append(j)\n",
    "        \n",
    "        #print to debug\n",
    "        debug = False\n",
    "        if debug:\n",
    "            print('objective function:',objective)\n",
    "            print(X)\n",
    "            plt.scatter(A.iloc[:,0], A.iloc[:,1], s=10)\n",
    "            plt.scatter(X.iloc[:,0], X.iloc[:,1], s=50)\n",
    "            plt.show()\n",
    "            print(S)\n",
    "            print('++++++++++++++++++++++++++++')\n",
    "        \n",
    "        \n",
    "    return((X, objective))"
   ]
  },
  {
   "cell_type": "code",
   "execution_count": null,
   "id": "ebbee34d-8be1-41b3-86c2-8f401ad7e6b2",
   "metadata": {},
   "outputs": [],
   "source": [
    "C = cost_matrix * demands.values \n",
    "#C gives the total cost of assigning facility i to customer j per unit distance\n",
    "\n",
    "np.random.seed(0)\n",
    "X, obj = multi_facility_euc(C, customer_locs)"
   ]
  },
  {
   "cell_type": "code",
   "execution_count": 278,
   "id": "bea3e130-6bb1-4bcf-a6fb-84fd383b3260",
   "metadata": {},
   "outputs": [
    {
     "data": {
      "image/png": "[encoded data removed]",
      "text/plain": [
       "<Figure size 432x288 with 1 Axes>"
      ]
     },
     "metadata": {
      "needs_background": "light"
     },
     "output_type": "display_data"
    },
    {
     "name": "stdout",
     "output_type": "stream",
     "text": [
      "Objective value :  54203.21034622252\n"
     ]
    },
    {
     "data": {
      "text/html": [
       "<div>\n",
       "<style scoped>\n",
       "    .dataframe tbody tr th:only-of-type {\n",
       "        vertical-align: middle;\n",
       "    }\n",
       "\n",
       "    .dataframe tbody tr th {\n",
       "        vertical-align: top;\n",
       "    }\n",
       "\n",
       "    .dataframe thead th {\n",
       "        text-align: right;\n",
       "    }\n",
       "</style>\n",
       "<table border=\"1\" class=\"dataframe\">\n",
       "  <thead>\n",
       "    <tr style=\"text-align: right;\">\n",
       "      <th></th>\n",
       "      <th>x1</th>\n",
       "      <th>x2</th>\n",
       "    </tr>\n",
       "  </thead>\n",
       "  <tbody>\n",
       "    <tr>\n",
       "      <th>0</th>\n",
       "      <td>87.164262</td>\n",
       "      <td>67.637095</td>\n",
       "    </tr>\n",
       "    <tr>\n",
       "      <th>1</th>\n",
       "      <td>76.999993</td>\n",
       "      <td>81.000002</td>\n",
       "    </tr>\n",
       "    <tr>\n",
       "      <th>2</th>\n",
       "      <td>56.792083</td>\n",
       "      <td>15.280702</td>\n",
       "    </tr>\n",
       "    <tr>\n",
       "      <th>3</th>\n",
       "      <td>39.197974</td>\n",
       "      <td>78.330124</td>\n",
       "    </tr>\n",
       "    <tr>\n",
       "      <th>4</th>\n",
       "      <td>19.561209</td>\n",
       "      <td>71.659835</td>\n",
       "    </tr>\n",
       "    <tr>\n",
       "      <th>5</th>\n",
       "      <td>77.999999</td>\n",
       "      <td>21.999999</td>\n",
       "    </tr>\n",
       "    <tr>\n",
       "      <th>6</th>\n",
       "      <td>19.000013</td>\n",
       "      <td>22.000029</td>\n",
       "    </tr>\n",
       "    <tr>\n",
       "      <th>7</th>\n",
       "      <td>76.000002</td>\n",
       "      <td>45.000006</td>\n",
       "    </tr>\n",
       "    <tr>\n",
       "      <th>8</th>\n",
       "      <td>95.073821</td>\n",
       "      <td>84.269388</td>\n",
       "    </tr>\n",
       "    <tr>\n",
       "      <th>9</th>\n",
       "      <td>38.848755</td>\n",
       "      <td>53.435779</td>\n",
       "    </tr>\n",
       "  </tbody>\n",
       "</table>\n",
       "</div>"
      ],
      "text/plain": [
       "          x1         x2\n",
       "0  87.164262  67.637095\n",
       "1  76.999993  81.000002\n",
       "2  56.792083  15.280702\n",
       "3  39.197974  78.330124\n",
       "4  19.561209  71.659835\n",
       "5  77.999999  21.999999\n",
       "6  19.000013  22.000029\n",
       "7  76.000002  45.000006\n",
       "8  95.073821  84.269388\n",
       "9  38.848755  53.435779"
      ]
     },
     "execution_count": 278,
     "metadata": {},
     "output_type": "execute_result"
    }
   ],
   "source": [
    "plt.scatter(customer_locs.iloc[:,0], customer_locs.iloc[:,1], s = 50, label='Customer')\n",
    "for i in range(0,len(X)):  \n",
    "    plt.scatter(X.iloc[i,0],X.iloc[i,1], s=200,marker='x',label='Facility '+str(i+1))\n",
    "\n",
    "plt.legend(bbox_to_anchor=(-0.10,1), prop={'size': 13})\n",
    "plt.show()\n",
    "print('Objective value : ',obj)\n",
    "X"
   ]
  },
  {
   "cell_type": "code",
   "execution_count": 217,
   "id": "05fd8d55-00a4-441c-b270-a33b24759acf",
   "metadata": {},
   "outputs": [],
   "source": [
    "import time"
   ]
  },
  {
   "cell_type": "code",
   "execution_count": 281,
   "id": "b714a191-9f7c-4b5e-8232-91fcb7f7abed",
   "metadata": {
    "tags": []
   },
   "outputs": [
    {
     "name": "stderr",
     "output_type": "stream",
     "text": [
      "C:\\Users\\batuk\\AppData\\Local\\Temp/ipykernel_13504/3870523125.py:10: RuntimeWarning: invalid value encountered in double_scalars\n",
      "  x_new = np.sum(C.iloc[:]*A.iloc[:,0]/euclidean_dist(x[-1],y[-1],A.iloc[:,0],A.iloc[:,1]))/\\\n",
      "C:\\Users\\batuk\\AppData\\Local\\Temp/ipykernel_13504/3870523125.py:13: RuntimeWarning: invalid value encountered in double_scalars\n",
      "  y_new = np.sum(C.iloc[:]*A.iloc[:,1]/euclidean_dist(x[-1],y[-1],A.iloc[:,0],A.iloc[:,1]))/\\\n"
     ]
    },
    {
     "name": "stdout",
     "output_type": "stream",
     "text": [
      "iteration5\n",
      "21.132535409927367\n",
      "iteration10\n",
      "20.97285466194153\n"
     ]
    }
   ],
   "source": [
    "np.random.seed(0)\n",
    "X_list = []\n",
    "obj_list = []\n",
    "time_list = []\n",
    "\n",
    "n_trials = 10\n",
    "for i in range(n_trials):\n",
    "    start_time = time.time()\n",
    "    X, obj = multi_facility_euc(C, customer_locs)\n",
    "    X_list.append(X)\n",
    "    obj_list.append(obj)\n",
    "    time_list.append(time.time() - start_time)\n",
    "    if (i+1)%5==0:\n",
    "        print('iteration' + str(i+1))\n",
    "        print(np.mean(time_list))\n"
   ]
  },
  {
   "cell_type": "code",
   "execution_count": null,
   "id": "a938c0dc-9b23-4bfb-9d2b-8f1989c9f85a",
   "metadata": {},
   "outputs": [],
   "source": [
    "np.mean(X_list, axis=0)"
   ]
  },
  {
   "cell_type": "code",
   "execution_count": null,
   "id": "9734246c-4859-4a93-b9c7-454c402c9aa2",
   "metadata": {},
   "outputs": [],
   "source": [
    "np.mean(obj_list)"
   ]
  },
  {
   "cell_type": "code",
   "execution_count": null,
   "id": "4e7d3b36-71b5-47d5-8348-8eeff334e588",
   "metadata": {},
   "outputs": [],
   "source": [
    "best_idx = np.argmin(obj_list)"
   ]
  },
  {
   "cell_type": "code",
   "execution_count": null,
   "id": "0bff9c41-d834-4436-b944-9503dd74ef81",
   "metadata": {},
   "outputs": [],
   "source": [
    "X_list[best_idx]"
   ]
  },
  {
   "cell_type": "code",
   "execution_count": null,
   "id": "2e25a098-1e8f-40b2-916f-954208002904",
   "metadata": {},
   "outputs": [],
   "source": [
    "obj_list[best_idx]"
   ]
  },
  {
   "cell_type": "code",
   "execution_count": null,
   "id": "1ae22e5f-5ce8-4888-815a-7c3fc3b6a89e",
   "metadata": {},
   "outputs": [],
   "source": []
  }
 ],
 "metadata": {
  "kernelspec": {
   "display_name": "Python 3 (ipykernel)",
   "language": "python",
   "name": "python3"
  },
  "language_info": {
   "codemirror_mode": {
    "name": "ipython",
    "version": 3
   },
   "file_extension": ".py",
   "mimetype": "text/x-python",
   "name": "python",
   "nbconvert_exporter": "python",
   "pygments_lexer": "ipython3",
   "version": "3.9.7"
  }
 },
 "nbformat": 4,
 "nbformat_minor": 5
}
